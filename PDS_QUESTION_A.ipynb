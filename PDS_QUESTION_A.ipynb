{
  "nbformat": 4,
  "nbformat_minor": 0,
  "metadata": {
    "colab": {
      "provenance": [],
      "authorship_tag": "ABX9TyO1DTHGWXJrLh7uYFLMWXC2",
      "include_colab_link": true
    },
    "kernelspec": {
      "name": "python3",
      "display_name": "Python 3"
    },
    "language_info": {
      "name": "python"
    }
  },
  "cells": [
    {
      "cell_type": "markdown",
      "metadata": {
        "id": "view-in-github",
        "colab_type": "text"
      },
      "source": [
        "<a href=\"https://colab.research.google.com/github/ri5heet/PDS_ASSIGNMENt_3/blob/main/PDS_QUESTION_A.ipynb\" target=\"_parent\"><img src=\"https://colab.research.google.com/assets/colab-badge.svg\" alt=\"Open In Colab\"/></a>"
      ]
    },
    {
      "cell_type": "code",
      "execution_count": null,
      "metadata": {
        "colab": {
          "base_uri": "https://localhost:8080/"
        },
        "id": "ZFLEGG5SHiIC",
        "outputId": "71957324-8166-4583-8638-200a8af979a2"
      },
      "outputs": [
        {
          "output_type": "stream",
          "name": "stdout",
          "text": [
            "Requirement already satisfied: dash in /usr/local/lib/python3.10/dist-packages (2.16.1)\n",
            "Requirement already satisfied: dash-core-components in /usr/local/lib/python3.10/dist-packages (2.0.0)\n",
            "Requirement already satisfied: dash-html-components in /usr/local/lib/python3.10/dist-packages (2.0.0)\n",
            "Requirement already satisfied: Flask<3.1,>=1.0.4 in /usr/local/lib/python3.10/dist-packages (from dash) (2.2.5)\n",
            "Requirement already satisfied: Werkzeug<3.1 in /usr/local/lib/python3.10/dist-packages (from dash) (3.0.2)\n",
            "Requirement already satisfied: plotly>=5.0.0 in /usr/local/lib/python3.10/dist-packages (from dash) (5.15.0)\n",
            "Requirement already satisfied: dash-table==5.0.0 in /usr/local/lib/python3.10/dist-packages (from dash) (5.0.0)\n",
            "Requirement already satisfied: importlib-metadata in /usr/local/lib/python3.10/dist-packages (from dash) (7.1.0)\n",
            "Requirement already satisfied: typing-extensions>=4.1.1 in /usr/local/lib/python3.10/dist-packages (from dash) (4.11.0)\n",
            "Requirement already satisfied: requests in /usr/local/lib/python3.10/dist-packages (from dash) (2.31.0)\n",
            "Requirement already satisfied: retrying in /usr/local/lib/python3.10/dist-packages (from dash) (1.3.4)\n",
            "Requirement already satisfied: nest-asyncio in /usr/local/lib/python3.10/dist-packages (from dash) (1.6.0)\n",
            "Requirement already satisfied: setuptools in /usr/local/lib/python3.10/dist-packages (from dash) (67.7.2)\n",
            "Requirement already satisfied: Jinja2>=3.0 in /usr/local/lib/python3.10/dist-packages (from Flask<3.1,>=1.0.4->dash) (3.1.3)\n",
            "Requirement already satisfied: itsdangerous>=2.0 in /usr/local/lib/python3.10/dist-packages (from Flask<3.1,>=1.0.4->dash) (2.1.2)\n",
            "Requirement already satisfied: click>=8.0 in /usr/local/lib/python3.10/dist-packages (from Flask<3.1,>=1.0.4->dash) (8.1.7)\n",
            "Requirement already satisfied: tenacity>=6.2.0 in /usr/local/lib/python3.10/dist-packages (from plotly>=5.0.0->dash) (8.2.3)\n",
            "Requirement already satisfied: packaging in /usr/local/lib/python3.10/dist-packages (from plotly>=5.0.0->dash) (24.0)\n",
            "Requirement already satisfied: MarkupSafe>=2.1.1 in /usr/local/lib/python3.10/dist-packages (from Werkzeug<3.1->dash) (2.1.5)\n",
            "Requirement already satisfied: zipp>=0.5 in /usr/local/lib/python3.10/dist-packages (from importlib-metadata->dash) (3.18.1)\n",
            "Requirement already satisfied: charset-normalizer<4,>=2 in /usr/local/lib/python3.10/dist-packages (from requests->dash) (3.3.2)\n",
            "Requirement already satisfied: idna<4,>=2.5 in /usr/local/lib/python3.10/dist-packages (from requests->dash) (3.6)\n",
            "Requirement already satisfied: urllib3<3,>=1.21.1 in /usr/local/lib/python3.10/dist-packages (from requests->dash) (2.0.7)\n",
            "Requirement already satisfied: certifi>=2017.4.17 in /usr/local/lib/python3.10/dist-packages (from requests->dash) (2024.2.2)\n",
            "Requirement already satisfied: six>=1.7.0 in /usr/local/lib/python3.10/dist-packages (from retrying->dash) (1.16.0)\n"
          ]
        }
      ],
      "source": [
        "!pip install dash dash-core-components dash-html-components\n",
        "\n"
      ]
    },
    {
      "cell_type": "code",
      "source": [
        "import http.client\n",
        "\n",
        "conn = http.client.HTTPSConnection(\"instagram-scraper-2022.p.rapidapi.com\")\n",
        "\n",
        "headers = {\n",
        "    'X-RapidAPI-Key': \"710e9f300fmshfaf4787d43bbcefp1b568bjsn34ae6690f12e\",\n",
        "    'X-RapidAPI-Host': \"instagram-scraper-2022.p.rapidapi.com\"\n",
        "}\n",
        "\n",
        "conn.request(\"GET\", \"/ig/info_username/?user=sanembahcekapili\", headers=headers)\n",
        "\n",
        "res = conn.getresponse()\n",
        "data = res.read()\n",
        "\n",
        "print(data.decode(\"utf-8\"))"
      ],
      "metadata": {
        "colab": {
          "base_uri": "https://localhost:8080/"
        },
        "id": "TefSTn-gQlXm",
        "outputId": "3cea7193-d7a6-4ae8-b666-3fa10b484794"
      },
      "execution_count": null,
      "outputs": [
        {
          "output_type": "stream",
          "name": "stdout",
          "text": [
            "{\"user\":{\"primary_profile_link_type\":0,\"show_fb_link_on_profile\":false,\"show_fb_page_link_on_profile\":false,\"can_hide_category\":true,\"account_type\":3,\"smb_support_partner\":null,\"current_catalog_id\":null,\"mini_shop_seller_onboarding_status\":null,\"account_category\":\"\",\"can_add_fb_group_link_on_profile\":false,\"can_use_affiliate_partnership_messaging_as_creator\":false,\"can_use_affiliate_partnership_messaging_as_brand\":false,\"existing_user_age_collection_enabled\":true,\"fbid_v2\":17841400381750115,\"feed_post_reshare_disabled\":false,\"full_name\":\"Sanem Bahc\\u0327ekap\\u0131l\\u0131\",\"has_guides\":false,\"has_ig_profile\":true,\"has_public_tab_threads\":true,\"highlight_reshare_disabled\":false,\"include_direct_blacklist_status\":true,\"is_direct_roll_call_enabled\":true,\"is_eligible_for_meta_verified_links_in_reels\":true,\"is_eligible_for_meta_verified_enhanced_link_sheet\":true,\"is_new_to_instagram\":false,\"is_new_to_instagram_30d\":false,\"is_parenting_account\":false,\"is_private\":false,\"is_secondary_account_creation\":false,\"pk\":7372725,\"pk_id\":\"7372725\",\"profile_type\":0,\"show_account_transparency_details\":true,\"show_ig_app_switcher_badge\":false,\"show_post_insights_entry_point\":true,\"show_text_post_app_badge\":true,\"show_text_post_app_switcher_badge\":true,\"text_post_app_joiner_number\":9883102,\"text_post_app_joiner_number_label\":\"9,883,102\",\"third_party_downloads_enabled\":1,\"username\":\"sanembahcekapili\",\"is_profile_picture_expansion_enabled\":true,\"is_opal_enabled\":false,\"strong_id__\":\"7372725\",\"biography\":\"kubra@bubble-project.com\\nsanem@bahcekapili.av.tr\",\"biography_with_entities\":{\"raw_text\":\"kubra@bubble-project.com\\nsanem@bahcekapili.av.tr\",\"entities\":[]},\"external_url\":\"\",\"can_hide_public_contacts\":true,\"category\":\"Personal blog\",\"should_show_category\":false,\"category_id\":2700,\"is_category_tappable\":false,\"should_show_public_contacts\":true,\"is_eligible_for_smb_support_flow\":true,\"is_eligible_for_lead_center\":true,\"lead_details_app_id\":\"com.bloks.www.ig.smb.lead_gen.subpage\",\"is_business\":false,\"professional_conversion_suggested_account_type\":3,\"direct_messaging\":\"\",\"instagram_location_id\":\"\",\"address_street\":\"\",\"business_contact_method\":\"UNKNOWN\",\"city_id\":0,\"city_name\":\"\",\"contact_phone_number\":\"\",\"is_profile_audio_call_enabled\":false,\"public_email\":\"sanem@bahcekapili.av.tr\",\"public_phone_country_code\":\"\",\"public_phone_number\":\"\",\"zip\":\"\",\"displayed_action_button_partner\":null,\"smb_delivery_partner\":null,\"smb_support_delivery_partner\":null,\"displayed_action_button_type\":\"\",\"is_call_to_action_enabled\":false,\"num_of_admined_pages\":null,\"page_id\":231466477676740,\"page_name\":\"Sanem Bah\\u00e7ekap\\u0131l\\u0131\",\"ads_page_id\":231466477676740,\"ads_page_name\":\"Sanem Bah\\u00e7ekap\\u0131l\\u0131\",\"shopping_post_onboard_nux_type\":null,\"ads_incentive_expiration_date\":null,\"account_badges\":[],\"active_standalone_fundraisers\":{\"total_count\":0,\"fundraisers\":[]},\"additional_business_addresses\":[],\"auto_expand_chaining\":null,\"avatar_status\":{\"has_avatar\":true},\"bio_links\":[],\"birthday_today_visibility_for_viewer\":\"NOT_VISIBLE\",\"can_use_branded_content_discovery_as_brand\":false,\"can_use_branded_content_discovery_as_creator\":false,\"can_use_paid_partnership_messaging_as_creator\":false,\"chaining_upsell_cards\":[],\"creator_shopping_info\":{\"linked_merchant_accounts\":[]},\"fan_club_info\":{\"fan_club_id\":null,\"fan_club_name\":null,\"is_fan_club_referral_eligible\":null,\"fan_consideration_page_revamp_eligiblity\":null,\"is_fan_club_gifting_eligible\":null,\"subscriber_count\":null,\"connected_member_count\":null,\"autosave_to_exclusive_highlight\":null,\"has_enough_subscribers_for_ssc\":null},\"follow_friction_type\":0,\"follower_count\":60538,\"following_count\":984,\"has_anonymous_profile_picture\":false,\"has_chaining\":true,\"has_collab_collections\":false,\"has_exclusive_feed_content\":false,\"has_fan_club_subscriptions\":false,\"has_highlight_reels\":true,\"has_music_on_profile\":false,\"has_private_collections\":true,\"has_videos\":true,\"hd_profile_pic_url_info\":{\"url\":\"https:\\/\\/instagram.fvno7-1.fna.fbcdn.net\\/v\\/t51.2885-19\\/67443437_340866173504581_1420465291036459008_n.jpg?_nc_ht=instagram.fvno7-1.fna.fbcdn.net&_nc_cat=101&_nc_ohc=fURQp9MF9i4Ab7Fwgwi&edm=AEF8tYYBAAAA&ccb=7-5&oh=00_AfCaprnX1Tvs1_m2G7rUkFVXMZMnecqkvgxkWthP6DXLrg&oe=6624A208&_nc_sid=1e20d2\",\"width\":1080,\"height\":1080},\"hd_profile_pic_versions\":[{\"width\":320,\"height\":320,\"url\":\"https:\\/\\/instagram.fvno7-1.fna.fbcdn.net\\/v\\/t51.2885-19\\/67443437_340866173504581_1420465291036459008_n.jpg?stp=dst-jpg_s320x320&_nc_ht=instagram.fvno7-1.fna.fbcdn.net&_nc_cat=101&_nc_ohc=fURQp9MF9i4Ab7Fwgwi&edm=AEF8tYYBAAAA&ccb=7-5&oh=00_AfCLwDCFlWlXTj9GfQa5VuPpzjCDVeMSjG-7ezHfrDmjxA&oe=6624A208&_nc_sid=1e20d2\"},{\"width\":640,\"height\":640,\"url\":\"https:\\/\\/instagram.fvno7-1.fna.fbcdn.net\\/v\\/t51.2885-19\\/67443437_340866173504581_1420465291036459008_n.jpg?stp=dst-jpg_s640x640&_nc_ht=instagram.fvno7-1.fna.fbcdn.net&_nc_cat=101&_nc_ohc=fURQp9MF9i4Ab7Fwgwi&edm=AEF8tYYBAAAA&ccb=7-5&oh=00_AfCsl2nann_GOIF6wJ9zP4fYobzPQjcwhVT7voXlIxVRCQ&oe=6624A208&_nc_sid=1e20d2\"}],\"highlights_tray_type\":\"DEFAULT\",\"interop_messaging_user_fbid\":111228103603993,\"is_bestie\":false,\"is_eligible_for_meta_verified_enhanced_link_sheet_consumption\":false,\"is_eligible_for_meta_verified_multiple_addresses_creation\":false,\"is_eligible_for_meta_verified_multiple_addresses_consumption\":false,\"is_eligible_for_meta_verified_related_accounts\":false,\"meta_verified_related_accounts_count\":0,\"is_meta_verified_related_accounts_display_enabled\":false,\"is_favorite\":false,\"is_favorite_for_stories\":false,\"is_favorite_for_igtv\":false,\"is_favorite_for_clips\":false,\"is_favorite_for_highlights\":false,\"is_in_canada\":false,\"is_interest_account\":true,\"is_memorialized\":false,\"is_potential_business\":false,\"is_regulated_news_in_viewer_location\":false,\"is_remix_setting_enabled_for_posts\":true,\"is_remix_setting_enabled_for_reels\":true,\"is_profile_broadcast_sharing_enabled\":true,\"is_regulated_c18\":false,\"is_stories_teaser_muted\":false,\"is_recon_ad_cta_on_profile_eligible_with_viewer\":true,\"is_supervision_features_enabled\":false,\"is_verified\":true,\"is_whatsapp_linked\":false,\"latest_besties_reel_media\":0,\"latest_reel_media\":1713288799,\"live_subscription_status\":\"default\",\"media_count\":890,\"merchant_checkout_style\":\"none\",\"mutual_followers_count\":0,\"nametag\":null,\"open_external_url_with_in_app_browser\":true,\"pinned_channels_info\":{\"pinned_channels_list\":[],\"has_public_channels\":false},\"profile_context\":\"\",\"profile_context_facepile_users\":[],\"profile_context_links_with_user_ids\":[],\"profile_pic_id\":\"2091716452632980629_7372725\",\"profile_pic_url\":\"https:\\/\\/instagram.fvno7-1.fna.fbcdn.net\\/v\\/t51.2885-19\\/67443437_340866173504581_1420465291036459008_n.jpg?stp=dst-jpg_e0_s150x150&_nc_ht=instagram.fvno7-1.fna.fbcdn.net&_nc_cat=101&_nc_ohc=fURQp9MF9i4Ab7Fwgwi&edm=AEF8tYYBAAAA&ccb=7-5&oh=00_AfDlWJWQuE_RQrdJUakqu_gKm9fiBg7AMkD2kXVSs8pWVA&oe=6624A208&_nc_sid=1e20d2\",\"pronouns\":[],\"recon_features\":{\"enable_recon_cta\":true},\"relevant_news_regulation_locations\":[],\"remove_message_entrypoint\":false,\"seller_shoppable_feed_type\":\"none\",\"show_shoppable_feed\":false,\"spam_follower_setting_enabled\":true,\"text_app_last_visited_time\":null,\"text_post_app_badge_label\":\"9,883,102\",\"eligible_for_text_app_activation_badge\":false,\"total_ar_effects\":0,\"total_clips_count\":1,\"total_igtv_videos\":0,\"transparency_product_enabled\":false,\"upcoming_events\":[],\"whatsapp_number\":\"\",\"recs_from_friends\":{\"enable_recs_from_friends\":false,\"recs_from_friends_entry_point_type\":\"banner\"},\"is_eligible_for_request_message\":false},\"status\":\"ok\",\"unrelated_data\":{\"retry\":3,\"id_acc\":\"2232600\",\"proxy_info\":\"LTV 1\",\"time_gen\":3.06}}\n"
          ]
        }
      ]
    },
    {
      "cell_type": "code",
      "source": [
        "!pip install tabulate"
      ],
      "metadata": {
        "colab": {
          "base_uri": "https://localhost:8080/"
        },
        "id": "gKY1dPX-ThdR",
        "outputId": "d41937e0-3bb4-486b-f08c-a822ba3a43bd"
      },
      "execution_count": null,
      "outputs": [
        {
          "output_type": "stream",
          "name": "stdout",
          "text": [
            "Requirement already satisfied: tabulate in /usr/local/lib/python3.10/dist-packages (0.9.0)\n"
          ]
        }
      ]
    },
    {
      "cell_type": "code",
      "source": [
        "import requests\n",
        "from tabulate import tabulate\n",
        "\n",
        "\n",
        "username = input(\"Enter the Instagram username: \")\n",
        "\n",
        "\n",
        "url = \"https://instagram-scraper-2022.p.rapidapi.com/ig/info_username/\"\n",
        "querystring = {\"user\": username}\n",
        "\n",
        "headers = {\n",
        "    \"X-RapidAPI-Key\": \"710e9f300fmshfaf4787d43bbcefp1b568bjsn34ae6690f12e\",\n",
        "    \"X-RapidAPI-Host\": \"instagram-scraper-2022.p.rapidapi.com\"\n",
        "}\n",
        "\n",
        "\n",
        "response = requests.get(url, headers=headers, params=querystring)\n",
        "\n",
        "\n",
        "if response.status_code == 200:\n",
        "\n",
        "    json_response = response.json()\n",
        "    full_name = json_response.get(\"user\", {}).get(\"full_name\")\n",
        "    new = json_response.get(\"user\", {}).get(\"is_new_to_instagram\")\n",
        "    private = json_response.get(\"user\", {}).get(\"is_private\")\n",
        "\n",
        "\n",
        "    table_data = [\n",
        "        [\"Username\", username],\n",
        "        [\"Full Name\", full_name if full_name else \"Not found\"],\n",
        "        [\"Is New to Instagram\", new if new is not None else \"Not found\"],\n",
        "        [\"Is Private\", private if private is not None else \"Not found\"]\n",
        "    ]\n",
        "\n",
        "\n",
        "    print(tabulate(table_data, headers=[\"Attribute\", \"Value\"], tablefmt=\"grid\"))\n",
        "else:\n",
        "    print(f\"Error: {response.status_code}\")\n"
      ],
      "metadata": {
        "id": "b_me1HNnKodK",
        "outputId": "2fa7abcb-86d4-4577-b06d-b8404fbd7cb2",
        "colab": {
          "base_uri": "https://localhost:8080/"
        }
      },
      "execution_count": null,
      "outputs": [
        {
          "output_type": "stream",
          "name": "stdout",
          "text": [
            "Enter the Instagram username: ri5heet\n",
            "+---------------------+----------------------+\n",
            "| Attribute           | Value                |\n",
            "+=====================+======================+\n",
            "| Username            | ri5heet              |\n",
            "+---------------------+----------------------+\n",
            "| Full Name           | Risheet Yalamanchili |\n",
            "+---------------------+----------------------+\n",
            "| Is New to Instagram | False                |\n",
            "+---------------------+----------------------+\n",
            "| Is Private          | True                 |\n",
            "+---------------------+----------------------+\n"
          ]
        }
      ]
    }
  ]
}